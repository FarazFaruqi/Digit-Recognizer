{
 "cells": [
  {
   "cell_type": "markdown",
   "metadata": {},
   "source": [
    "# Digit Recognition using MNIST #"
   ]
  },
  {
   "cell_type": "code",
   "execution_count": 2,
   "metadata": {
    "collapsed": true
   },
   "outputs": [],
   "source": [
    "import matplotlib.pyplot as plt\n",
    "import math as mt"
   ]
  },
  {
   "cell_type": "markdown",
   "metadata": {},
   "source": [
    "## Extracting the training images ##"
   ]
  },
  {
   "cell_type": "code",
   "execution_count": 1,
   "metadata": {
    "collapsed": false
   },
   "outputs": [],
   "source": [
    "#extracting data from the .gz file into images and label\n",
    "from struct import unpack\n",
    "import gzip\n",
    "import numpy as np\n",
    "\n",
    "\n",
    "def get_labeled_data(imagefile, labelfile):\n",
    "    \"\"\"Read input-vector (image) and target class (label, 0-9) and return\n",
    "       it as list of tuples.\n",
    "    \"\"\"\n",
    "    # Open the images with gzip in read binary mode\n",
    "    images = gzip.open(imagefile, 'rb')\n",
    "    labels = gzip.open(labelfile, 'rb')\n",
    "\n",
    "    # Read the binary data\n",
    "\n",
    "    # We have to get big endian unsigned int. So we need '>I'\n",
    "\n",
    "    # Get metadata for images\n",
    "    images.read(4)  # skip the magic_number\n",
    "    number_of_images = images.read(4)\n",
    "    number_of_images = unpack('>I', number_of_images)[0]\n",
    "    rows = images.read(4)\n",
    "    rows = unpack('>I', rows)[0]\n",
    "    cols = images.read(4)\n",
    "    cols = unpack('>I', cols)[0]\n",
    "    # Get metadata for labels\n",
    "    labels.read(4)  # skip the magic_number\n",
    "    N = labels.read(4)\n",
    "    N = unpack('>I', N)[0]\n",
    "\n",
    "    if number_of_images != N:\n",
    "        raise Exception('number of labels did not match the number of images')\n",
    "\n",
    "    # Get the data\n",
    "    x = np.ndarray((N, rows, cols), dtype='uint8')  # Initialize numpy array\n",
    "    y = np.ndarray((N, 1), dtype='uint8')  # Initialize numpy array\n",
    "    for i in range(N):\n",
    "        if i % 1000 == 0:\n",
    "            print(\"i: %i\" % i)\n",
    "        for row in range(rows):\n",
    "            for col in range(cols):\n",
    "                tmp_pixel = images.read(1)  # Just a single byte\n",
    "                tmp_pixel = unpack('>B', tmp_pixel)[0]\n",
    "                x[i][row][col] = tmp_pixel\n",
    "        tmp_label = labels.read(1)\n",
    "        y[i] = unpack('>B', tmp_label)[0]\n",
    "    return (x, y)"
   ]
  },
  {
   "cell_type": "code",
   "execution_count": 3,
   "metadata": {
    "collapsed": false
   },
   "outputs": [
    {
     "name": "stdout",
     "output_type": "stream",
     "text": [
      "i: 0\n",
      "i: 1000\n",
      "i: 2000\n",
      "i: 3000\n",
      "i: 4000\n",
      "i: 5000\n",
      "i: 6000\n",
      "i: 7000\n",
      "i: 8000\n",
      "i: 9000\n",
      "i: 10000\n",
      "i: 11000\n",
      "i: 12000\n",
      "i: 13000\n",
      "i: 14000\n",
      "i: 15000\n",
      "i: 16000\n",
      "i: 17000\n",
      "i: 18000\n",
      "i: 19000\n",
      "i: 20000\n",
      "i: 21000\n",
      "i: 22000\n",
      "i: 23000\n",
      "i: 24000\n",
      "i: 25000\n",
      "i: 26000\n",
      "i: 27000\n",
      "i: 28000\n",
      "i: 29000\n",
      "i: 30000\n",
      "i: 31000\n",
      "i: 32000\n",
      "i: 33000\n",
      "i: 34000\n",
      "i: 35000\n",
      "i: 36000\n",
      "i: 37000\n",
      "i: 38000\n",
      "i: 39000\n",
      "i: 40000\n",
      "i: 41000\n",
      "i: 42000\n",
      "i: 43000\n",
      "i: 44000\n",
      "i: 45000\n",
      "i: 46000\n",
      "i: 47000\n",
      "i: 48000\n",
      "i: 49000\n",
      "i: 50000\n",
      "i: 51000\n",
      "i: 52000\n",
      "i: 53000\n",
      "i: 54000\n",
      "i: 55000\n",
      "i: 56000\n",
      "i: 57000\n",
      "i: 58000\n",
      "i: 59000\n"
     ]
    }
   ],
   "source": [
    "#using the function to extract images\n",
    "x,y = get_labeled_data('train-images-idx3-ubyte.gz', 'train-labels-idx1-ubyte.gz')"
   ]
  },
  {
   "cell_type": "code",
   "execution_count": 4,
   "metadata": {
    "collapsed": false
   },
   "outputs": [
    {
     "name": "stdout",
     "output_type": "stream",
     "text": [
      "47040000\n",
      "(60000, 28, 28)\n",
      "60000\n",
      "60000\n",
      "28\n",
      "28\n",
      "1\n"
     ]
    }
   ],
   "source": [
    "print(x.size)\n",
    "print(x.shape)\n",
    "print(len(x))\n",
    "print(len(y))\n",
    "print(len(x[1]))\n",
    "print(len(x[1][1]))\n",
    "print(len(y[1]))"
   ]
  },
  {
   "cell_type": "code",
   "execution_count": 5,
   "metadata": {
    "collapsed": false
   },
   "outputs": [
    {
     "name": "stdout",
     "output_type": "stream",
     "text": [
      "[[5]\n",
      " [0]\n",
      " [4]\n",
      " ..., \n",
      " [5]\n",
      " [6]\n",
      " [8]]\n"
     ]
    }
   ],
   "source": [
    "print(y)"
   ]
  },
  {
   "cell_type": "markdown",
   "metadata": {},
   "source": [
    "##  Few examples of pre-processed images ##"
   ]
  },
  {
   "cell_type": "code",
   "execution_count": 6,
   "metadata": {
    "collapsed": false
   },
   "outputs": [
    {
     "data": {
      "image/png": "[encoded data removed]",
      "text/plain": [
       "<matplotlib.figure.Figure at 0x7f6df1eae710>"
      ]
     },
     "metadata": {},
     "output_type": "display_data"
    }
   ],
   "source": [
    "# examples of few unprocessed images\n",
    "plt.subplot(221)\n",
    "plt.imshow(x[0],'gray')\n",
    "plt.subplot(222)\n",
    "plt.imshow(x[2],'gray')\n",
    "plt.subplot(223)\n",
    "plt.imshow(x[3],'gray')\n",
    "plt.subplot(224)\n",
    "plt.imshow(x[4],'gray')\n",
    "plt.show()"
   ]
  },
  {
   "cell_type": "code",
   "execution_count": 7,
   "metadata": {
    "collapsed": false
   },
   "outputs": [
    {
     "data": {
      "image/png": "[encoded data removed]",
      "text/plain": [
       "<matplotlib.figure.Figure at 0x7f6df1e90ba8>"
      ]
     },
     "metadata": {},
     "output_type": "display_data"
    }
   ],
   "source": [
    "#processing of images  using OTSU's method\n",
    "#displaying the changes made in the images\n",
    "import cv2\n",
    "import numpy as np\n",
    "img1= x[0]\n",
    "img2 = x[1]\n",
    "blur1 = cv2.GaussianBlur(img1,(5,5),0)\n",
    "blur2 = cv2.GaussianBlur(img2,(5,5),0)\n",
    "ret1,th1 = cv2.threshold(blur1,0,255,cv2.THRESH_BINARY+cv2.THRESH_OTSU)\n",
    "ret2,th2 = cv2.threshold(blur2,0,255,cv2.THRESH_BINARY+cv2.THRESH_OTSU)\n",
    "plt.subplot(221)\n",
    "plt.imshow(img1,'gray')\n",
    "plt.subplot(222)\n",
    "plt.imshow(th1,'gray')\n",
    "plt.subplot(223)\n",
    "plt.imshow(img2,'gray')\n",
    "plt.subplot(224)\n",
    "plt.imshow(th2,'gray')\n",
    "plt.show()"
   ]
  },
  {
   "cell_type": "markdown",
   "metadata": {},
   "source": [
    "## Thresholding Images ##"
   ]
  },
  {
   "cell_type": "code",
   "execution_count": 8,
   "metadata": {
    "collapsed": false
   },
   "outputs": [],
   "source": [
    "#Thresholding all the images\n",
    "for i in range(len(x)):\n",
    "    img = x[i]\n",
    "    blur = cv2.GaussianBlur(img,(5,5),0)\n",
    "    ret,x[i] = cv2.threshold(blur,0,255,cv2.THRESH_BINARY+cv2.THRESH_OTSU)\n",
    "    "
   ]
  },
  {
   "cell_type": "markdown",
   "metadata": {},
   "source": [
    "## Averaging the Image Vectors into respective arrays **(10x28x28)** ##"
   ]
  },
  {
   "cell_type": "code",
   "execution_count": 9,
   "metadata": {
    "collapsed": false
   },
   "outputs": [
    {
     "name": "stdout",
     "output_type": "stream",
     "text": [
      "0 5923\n",
      "1 6742\n",
      "2 5958\n",
      "3 6131\n",
      "4 5842\n",
      "5 5421\n",
      "6 5918\n",
      "7 6265\n",
      "8 5851\n",
      "9 5949\n"
     ]
    }
   ],
   "source": [
    "# taking average of all the images and storing in one matrix 10x28x28\n",
    "#size corresponds to the number of images of each digit\n",
    "img_avg = np.zeros((10,28,28),dtype = 'int32')\n",
    "size = np.zeros(10,dtype='int32')\n",
    "for i in range(10):\n",
    "    for j in range(60000):\n",
    "        if(y[j] == i):\n",
    "            for row in range(28):\n",
    "                for col in range(28):\n",
    "                    img_avg[i][row][col] = img_avg[i][row][col] + x[j][row][col]\n",
    "            size[i] += 1\n",
    "    print(i, size[i])\n",
    "\n",
    "for i in range(10):\n",
    "    img_avg[i] = img_avg[i] / size[i] \n",
    "    "
   ]
  },
  {
   "cell_type": "code",
   "execution_count": 10,
   "metadata": {
    "collapsed": false
   },
   "outputs": [
    {
     "data": {
      "image/png": "[encoded data removed]",
      "text/plain": [
       "<matplotlib.figure.Figure at 0x7f6dec6f2898>"
      ]
     },
     "metadata": {},
     "output_type": "display_data"
    }
   ],
   "source": [
    "# plotting all the averaged out images\n",
    "titles = ['Zero','One','Two','Three','Four','Five','Six','Seven','Eight','Nine']\n",
    "images = [img_avg[0],img_avg[1] ,img_avg[2],img_avg[3],img_avg[4],img_avg[5],img_avg[6],img_avg[7],img_avg[8],img_avg[9]]\n",
    "for i in range(10):\n",
    "    plt.subplot(4,4,i+1)\n",
    "    plt.imshow(images[i],'gray')\n",
    "    plt.title(titles[i])\n",
    "    plt.xticks([]),plt.yticks([])\n",
    "plt.show()"
   ]
  },
  {
   "cell_type": "code",
   "execution_count": 11,
   "metadata": {
    "collapsed": false
   },
   "outputs": [],
   "source": [
    "#type casting the images\n",
    "var = np.zeros((10,28,28),dtype = 'uint8')\n",
    "for i in range (10):\n",
    "    var[i] = img_avg[i].astype('uint8')\n",
    "img_avg = var"
   ]
  },
  {
   "cell_type": "code",
   "execution_count": 12,
   "metadata": {
    "collapsed": false
   },
   "outputs": [
    {
     "data": {
      "text/plain": [
       "(10, 28, 28)"
      ]
     },
     "execution_count": 12,
     "metadata": {},
     "output_type": "execute_result"
    }
   ],
   "source": [
    "img_avg.shape"
   ]
  },
  {
   "cell_type": "code",
   "execution_count": 13,
   "metadata": {
    "collapsed": false
   },
   "outputs": [],
   "source": [
    "# creating the vectors of the images\n",
    "img_vec = np.zeros((786,10),dtype = 'float32')\n",
    "for i in range(10):\n",
    "    c = 0\n",
    "    for j in range(28):\n",
    "        for k in range(28):\n",
    "            img_vec[c][i] = img_avg[i][j][k]\n",
    "            c = c + 1"
   ]
  },
  {
   "cell_type": "code",
   "execution_count": 14,
   "metadata": {
    "collapsed": false
   },
   "outputs": [
    {
     "data": {
      "text/plain": [
       "(786, 10)"
      ]
     },
     "execution_count": 14,
     "metadata": {},
     "output_type": "execute_result"
    }
   ],
   "source": [
    "img_vec.shape"
   ]
  },
  {
   "cell_type": "markdown",
   "metadata": {},
   "source": [
    "### _Average Digit Vector_ to average the digits"
   ]
  },
  {
   "cell_type": "code",
   "execution_count": 15,
   "metadata": {
    "collapsed": false
   },
   "outputs": [],
   "source": [
    "# creating the average digit vector\n",
    "vec = np.zeros(786,dtype = 'float32')\n",
    "for i in range(786):\n",
    "    for j in range(10):\n",
    "        vec[i] += img_vec[i][j]\n",
    "    vec[i] = vec[i] / 10"
   ]
  },
  {
   "cell_type": "code",
   "execution_count": 16,
   "metadata": {
    "collapsed": true
   },
   "outputs": [],
   "source": [
    "# subtracting each digit from the average vector\n",
    "for i in range(786):\n",
    "    for j in range(10):\n",
    "        img_vec[i][j] = img_vec[i][j] - vec[i]    "
   ]
  },
  {
   "cell_type": "code",
   "execution_count": 17,
   "metadata": {
    "collapsed": false
   },
   "outputs": [
    {
     "data": {
      "text/plain": [
       "array([  0.00000000e+00,   0.00000000e+00,   0.00000000e+00,\n",
       "         0.00000000e+00,   0.00000000e+00,   0.00000000e+00,\n",
       "         0.00000000e+00,   0.00000000e+00,   0.00000000e+00,\n",
       "         0.00000000e+00,   0.00000000e+00,   0.00000000e+00,\n",
       "        -1.00000001e-01,  -1.00000001e-01,  -1.00000001e-01,\n",
       "        -1.00000001e-01,  -1.00000001e-01,   0.00000000e+00,\n",
       "         0.00000000e+00,   0.00000000e+00,   0.00000000e+00,\n",
       "         0.00000000e+00,   0.00000000e+00,   0.00000000e+00,\n",
       "         0.00000000e+00,   0.00000000e+00,   0.00000000e+00,\n",
       "         0.00000000e+00,   0.00000000e+00,   0.00000000e+00,\n",
       "         0.00000000e+00,   0.00000000e+00,   0.00000000e+00,\n",
       "         0.00000000e+00,   0.00000000e+00,   0.00000000e+00,\n",
       "         0.00000000e+00,   0.00000000e+00,  -1.00000001e-01,\n",
       "        -1.00000001e-01,  -2.00000003e-01,  -2.00000003e-01,\n",
       "        -2.00000003e-01,  -2.00000003e-01,  -2.00000003e-01,\n",
       "        -1.00000001e-01,  -1.00000001e-01,   0.00000000e+00,\n",
       "         0.00000000e+00,   0.00000000e+00,   0.00000000e+00,\n",
       "         0.00000000e+00,   0.00000000e+00,   0.00000000e+00,\n",
       "         0.00000000e+00,   0.00000000e+00,   0.00000000e+00,\n",
       "         0.00000000e+00,   0.00000000e+00,   0.00000000e+00,\n",
       "         0.00000000e+00,   0.00000000e+00,   0.00000000e+00,\n",
       "        -1.00000001e-01,  -3.00000012e-01,  -6.00000024e-01,\n",
       "        -1.10000002e+00,  -1.89999998e+00,  -2.70000005e+00,\n",
       "        -3.59999990e+00,  -4.50000000e+00,  -5.00000000e+00,\n",
       "        -5.00000000e+00,  -4.40000010e+00,  -3.50000000e+00,\n",
       "        -2.40000010e+00,  -1.20000005e+00,  -6.00000024e-01,\n",
       "        -2.00000003e-01,   0.00000000e+00,   0.00000000e+00,\n",
       "         0.00000000e+00,   0.00000000e+00,   0.00000000e+00,\n",
       "         0.00000000e+00,   0.00000000e+00,   0.00000000e+00,\n",
       "         0.00000000e+00,   0.00000000e+00,   0.00000000e+00,\n",
       "        -2.00000003e-01,  -5.00000000e-01,  -1.70000005e+00,\n",
       "        -3.29999995e+00,  -5.59999990e+00,  -6.50000000e+00,\n",
       "        -8.89999962e+00,  -1.06000004e+01,  -1.16000004e+01,\n",
       "        -1.21000004e+01,  -1.20000000e+01,  -1.11000004e+01,\n",
       "        -9.30000019e+00,  -6.19999981e+00,  -3.19999981e+00,\n",
       "        -1.59999990e+00,  -1.00000000e+00,  -2.00000003e-01,\n",
       "        -1.00000001e-01,   0.00000000e+00,   0.00000000e+00,\n",
       "         0.00000000e+00,   0.00000000e+00,   0.00000000e+00,\n",
       "         0.00000000e+00,   0.00000000e+00,   0.00000000e+00,\n",
       "        -3.00000012e-01,  -1.20000005e+00,  -3.20000005e+00,\n",
       "        -4.80000019e+00,  -7.30000019e+00,  -8.60000038e+00,\n",
       "        -6.00000000e+00,  -1.29999924e+00,   7.40000153e+00,\n",
       "         1.80999985e+01,   2.76999969e+01,   3.37999992e+01,\n",
       "         3.35999985e+01,   2.87999992e+01,   1.91000004e+01,\n",
       "         9.70000076e+00,   3.10000038e+00,  -6.99999809e-01,\n",
       "        -2.40000010e+00,  -8.00000012e-01,  -1.00000001e-01,\n",
       "         0.00000000e+00,   0.00000000e+00,   0.00000000e+00,\n",
       "         0.00000000e+00,   0.00000000e+00,   0.00000000e+00,\n",
       "        -3.00000012e-01,  -1.50000000e+00,  -3.50000000e+00,\n",
       "        -7.69999981e+00,  -1.10000000e+01,  -1.18999996e+01,\n",
       "        -8.40000153e+00,   1.70000076e+00,   1.58000031e+01,\n",
       "         3.30000000e+01,   4.68000031e+01,   6.19000015e+01,\n",
       "         6.90000000e+01,   7.18000031e+01,   6.36999969e+01,\n",
       "         5.16999969e+01,   3.17999992e+01,   1.40000000e+01,\n",
       "         1.89999962e+00,  -4.60000038e+00,  -3.50000000e+00,\n",
       "        -8.99999976e-01,   0.00000000e+00,   0.00000000e+00,\n",
       "         0.00000000e+00,   0.00000000e+00,   0.00000000e+00,\n",
       "        -1.00000001e-01,  -1.00000000e+00,  -3.70000005e+00,\n",
       "        -7.50000000e+00,  -1.20000000e+01,  -1.39000015e+01,\n",
       "        -1.10999985e+01,   8.00003052e-01,   1.45000000e+01,\n",
       "         3.00000000e+01,   4.31999969e+01,   5.20000000e+01,\n",
       "         6.01999969e+01,   6.81000061e+01,   7.60000000e+01,\n",
       "         8.06999969e+01,   7.59000015e+01,   5.86999969e+01,\n",
       "         3.62999992e+01,   1.30000000e+01,  -6.99999809e-01,\n",
       "        -6.00000000e+00,  -2.09999990e+00,  -3.00000012e-01,\n",
       "        -1.00000001e-01,   0.00000000e+00,   0.00000000e+00,\n",
       "         0.00000000e+00,  -6.00000024e-01,  -2.59999990e+00,\n",
       "        -6.19999981e+00,  -1.12000008e+01,  -1.40000000e+01,\n",
       "        -1.20000000e+01,  -2.09999847e+00,   1.24000015e+01,\n",
       "         2.71999969e+01,   3.81000061e+01,   4.43000031e+01,\n",
       "         4.63000031e+01,   4.73999939e+01,   5.26000061e+01,\n",
       "         6.28999939e+01,   7.63000031e+01,   8.70999985e+01,\n",
       "         8.35000000e+01,   6.01999969e+01,   3.39000015e+01,\n",
       "         8.50000000e+00,  -4.60000038e+00,  -3.09999990e+00,\n",
       "        -6.00000024e-01,  -1.00000001e-01,   0.00000000e+00,\n",
       "         0.00000000e+00,  -3.00000012e-01,  -1.29999995e+00,\n",
       "        -4.19999981e+00,  -8.69999981e+00,  -1.13999996e+01,\n",
       "        -8.50000000e+00,   1.30000305e+00,   1.39000015e+01,\n",
       "         3.08000031e+01,   4.28000031e+01,   4.86999969e+01,\n",
       "         4.55000000e+01,   3.93999939e+01,   3.21999969e+01,\n",
       "         3.08000031e+01,   4.08000031e+01,   6.06999969e+01,\n",
       "         8.36999969e+01,   9.83000031e+01,   9.04000015e+01,\n",
       "         5.97999992e+01,   2.65000000e+01,   8.00000191e-01,\n",
       "        -3.40000010e+00,  -5.00000000e-01,  -1.00000001e-01,\n",
       "         0.00000000e+00,   0.00000000e+00,  -5.00000000e-01,\n",
       "        -1.79999995e+00,  -5.09999990e+00,  -7.80000019e+00,\n",
       "        -4.10000038e+00,   5.70000076e+00,   2.05000000e+01,\n",
       "         3.90000000e+01,   5.11000061e+01,   5.75000000e+01,\n",
       "         5.38999939e+01,   3.96000061e+01,   2.26999969e+01,\n",
       "         5.19999695e+00,  -4.69999695e+00,   8.00003052e-01,\n",
       "         3.08999939e+01,   7.03999939e+01,   1.06000000e+02,\n",
       "         1.14699997e+02,   9.06999969e+01,   4.92000008e+01,\n",
       "         1.00000000e+01,  -2.59999990e+00,  -4.00000006e-01,\n",
       "        -1.00000001e-01,   0.00000000e+00,  -1.00000001e-01,\n",
       "        -5.00000000e-01,  -1.79999995e+00,  -4.19999981e+00,\n",
       "        -1.39999962e+00,   1.05000000e+01,   2.77000008e+01,\n",
       "         4.69000015e+01,   6.08000031e+01,   6.58000031e+01,\n",
       "         6.16000061e+01,   4.43999939e+01,   2.23999939e+01,\n",
       "        -4.09999847e+00,  -3.53000031e+01,  -5.45000000e+01,\n",
       "        -4.88999939e+01,  -1.23000031e+01,   5.00000000e+01,\n",
       "         1.07699997e+02,   1.32800003e+02,   1.14699997e+02,\n",
       "         7.39000015e+01,   2.07999992e+01,  -3.99999976e-01,\n",
       "        -1.00000001e-01,   0.00000000e+00,   0.00000000e+00,\n",
       "         0.00000000e+00,  -4.00000006e-01,  -1.50000000e+00,\n",
       "        -2.69999981e+00,   8.50000000e+00,   2.87000008e+01,\n",
       "         5.19000015e+01,   7.33000031e+01,   8.05999985e+01,\n",
       "         7.06000061e+01,   5.05000000e+01,   2.26000061e+01,\n",
       "        -1.20999985e+01,  -4.66999969e+01,  -8.01000061e+01,\n",
       "        -1.02399994e+02,  -9.38999939e+01,  -4.58000031e+01,\n",
       "         3.05999985e+01,   1.05699997e+02,   1.44500000e+02,\n",
       "         1.32500000e+02,   9.09000015e+01,   3.08999996e+01,\n",
       "         3.00000012e-01,   0.00000000e+00,   0.00000000e+00,\n",
       "         0.00000000e+00,   0.00000000e+00,  -2.00000003e-01,\n",
       "        -1.00000000e+00,   8.00000191e-01,   2.28999996e+01,\n",
       "         5.00000000e+01,   7.88000031e+01,   9.33000031e+01,\n",
       "         8.56999969e+01,   5.78000031e+01,   2.41999969e+01,\n",
       "        -1.60999985e+01,  -6.08000031e+01,  -9.43999939e+01,\n",
       "        -1.22800003e+02,  -1.40500000e+02,  -1.22300003e+02,\n",
       "        -6.75000000e+01,   1.75000000e+01,   1.03900002e+02,\n",
       "         1.51100006e+02,   1.41199997e+02,   9.95000000e+01,\n",
       "         3.84000015e+01,   2.40000010e+00,   0.00000000e+00,\n",
       "         0.00000000e+00,   0.00000000e+00,   0.00000000e+00,\n",
       "        -1.00000001e-01,  -8.00000012e-01,   4.90000010e+00,\n",
       "         3.82000008e+01,   7.34000015e+01,   1.01699997e+02,\n",
       "         1.07300003e+02,   8.15999985e+01,   3.73999939e+01,\n",
       "        -1.18000031e+01,  -6.48999939e+01,  -1.10699997e+02,\n",
       "        -1.36500000e+02,  -1.60699997e+02,  -1.67800003e+02,\n",
       "        -1.36500000e+02,  -7.56999969e+01,   1.23000031e+01,\n",
       "         1.02599998e+02,   1.50199997e+02,   1.40399994e+02,\n",
       "         9.76999969e+01,   3.95999985e+01,   3.20000005e+00,\n",
       "         0.00000000e+00,   0.00000000e+00,   0.00000000e+00,\n",
       "         0.00000000e+00,   0.00000000e+00,  -6.00000024e-01,\n",
       "         1.13999996e+01,   5.47999992e+01,   9.53000031e+01,\n",
       "         1.20400002e+02,   1.13800003e+02,   7.06999969e+01,\n",
       "         1.20000000e+01,  -4.86999969e+01,  -1.08600006e+02,\n",
       "        -1.45000000e+02,  -1.64600006e+02,  -1.82000000e+02,\n",
       "        -1.74399994e+02,  -1.32000000e+02,  -6.83000031e+01,\n",
       "         2.29000015e+01,   1.05000000e+02,   1.45199997e+02,\n",
       "         1.33399994e+02,   8.98000031e+01,   3.80999985e+01,\n",
       "         2.90000010e+00,   0.00000000e+00,   0.00000000e+00,\n",
       "         0.00000000e+00,   0.00000000e+00,   0.00000000e+00,\n",
       "        -4.00000006e-01,   1.86000004e+01,   6.95999985e+01,\n",
       "         1.12099998e+02,   1.34000000e+02,   1.17900002e+02,\n",
       "         6.08000031e+01,  -6.69999695e+00,  -7.68999939e+01,\n",
       "        -1.32500000e+02,  -1.58699997e+02,  -1.74000000e+02,\n",
       "        -1.82000000e+02,  -1.61300003e+02,  -1.12899994e+02,\n",
       "        -4.43999939e+01,   4.03000031e+01,   1.10400002e+02,\n",
       "         1.36600006e+02,   1.19400002e+02,   7.71999969e+01,\n",
       "         3.18999996e+01,   1.70000005e+00,  -1.00000001e-01,\n",
       "        -1.00000001e-01,   0.00000000e+00,   0.00000000e+00,\n",
       "         0.00000000e+00,   3.99999976e-01,   2.52999992e+01,\n",
       "         8.33000031e+01,   1.23000000e+02,   1.42899994e+02,\n",
       "         1.17500000e+02,   5.50999985e+01,  -1.98000031e+01,\n",
       "        -8.68000031e+01,  -1.28699997e+02,  -1.52199997e+02,\n",
       "        -1.63500000e+02,  -1.61699997e+02,  -1.29600006e+02,\n",
       "        -7.83000031e+01,  -9.39999390e+00,   6.34000015e+01,\n",
       "         1.14599998e+02,   1.24300003e+02,   9.95999985e+01,\n",
       "         6.17000008e+01,   2.33999996e+01,   6.00000024e-01,\n",
       "        -1.00000001e-01,   0.00000000e+00,   0.00000000e+00,\n",
       "         0.00000000e+00,  -1.00000001e-01,  -1.00000024e-01,\n",
       "         2.87000008e+01,   8.91999969e+01,   1.28300003e+02,\n",
       "         1.48000000e+02,   1.22699997e+02,   5.91999969e+01,\n",
       "        -1.54000015e+01,  -7.75000000e+01,  -1.12600006e+02,\n",
       "        -1.32699997e+02,  -1.38800003e+02,  -1.24300003e+02,\n",
       "        -8.81999969e+01,  -3.35000000e+01,   2.85000000e+01,\n",
       "         8.33000031e+01,   1.11500000e+02,   1.05800003e+02,\n",
       "         7.73000031e+01,   4.39000015e+01,   1.33000002e+01,\n",
       "        -5.00000000e-01,  -2.00000003e-01,   0.00000000e+00,\n",
       "         0.00000000e+00,   0.00000000e+00,  -1.00000001e-01,\n",
       "        -8.99999976e-01,   2.87000008e+01,   8.61999969e+01,\n",
       "         1.26500000e+02,   1.47800003e+02,   1.28500000e+02,\n",
       "         7.29000015e+01,   7.59999847e+00,  -5.05999985e+01,\n",
       "        -8.40000000e+01,  -1.00100006e+02,  -9.61999969e+01,\n",
       "        -7.56999969e+01,  -3.71000061e+01,   1.16000061e+01,\n",
       "         6.06000061e+01,   9.18000031e+01,   9.90999985e+01,\n",
       "         8.05000000e+01,   5.30999985e+01,   2.35000000e+01,\n",
       "         5.19999981e+00,  -1.20000005e+00,  -1.00000001e-01,\n",
       "         0.00000000e+00,   0.00000000e+00,   0.00000000e+00,\n",
       "        -3.00000012e-01,  -1.40000010e+00,   2.37000008e+01,\n",
       "         7.48000031e+01,   1.14900002e+02,   1.40600006e+02,\n",
       "         1.33300003e+02,   9.40999985e+01,   4.23000031e+01,\n",
       "        -5.59999847e+00,  -3.78000031e+01,  -5.01000061e+01,\n",
       "        -4.40000000e+01,  -2.23999939e+01,   1.01999969e+01,\n",
       "         4.88000031e+01,   7.56000061e+01,   8.65999985e+01,\n",
       "         7.49000015e+01,   5.24000015e+01,   2.82000008e+01,\n",
       "         8.60000038e+00,  -3.00000191e-01,  -1.00000000e+00,\n",
       "        -1.00000001e-01,   0.00000000e+00,   0.00000000e+00,\n",
       "         0.00000000e+00,  -3.00000012e-01,  -2.79999995e+00,\n",
       "         1.60000000e+01,   5.60000000e+01,   9.58000031e+01,\n",
       "         1.25300003e+02,   1.31399994e+02,   1.14500000e+02,\n",
       "         8.13000031e+01,   4.98999939e+01,   2.33999939e+01,\n",
       "         1.01999969e+01,   1.16999969e+01,   2.46999969e+01,\n",
       "         4.66999969e+01,   6.53999939e+01,   7.25000000e+01,\n",
       "         6.16999969e+01,   4.52000008e+01,   2.70999985e+01,\n",
       "         1.02000008e+01,   3.00000191e-01,  -2.00000000e+00,\n",
       "        -6.00000024e-01,  -1.00000001e-01,   0.00000000e+00,\n",
       "         0.00000000e+00,   0.00000000e+00,  -2.00000003e-01,\n",
       "        -2.20000005e+00,   7.30000019e+00,   3.47999992e+01,\n",
       "         6.89000015e+01,   1.00699997e+02,   1.18500000e+02,\n",
       "         1.17000000e+02,   9.96000061e+01,   7.66999969e+01,\n",
       "         5.76000061e+01,   4.63999939e+01,   4.48000031e+01,\n",
       "         5.08000031e+01,   5.81999969e+01,   5.65000000e+01,\n",
       "         4.80999985e+01,   3.55999985e+01,   2.07999992e+01,\n",
       "         6.70000076e+00,  -8.00000191e-01,  -3.19999981e+00,\n",
       "        -1.60000002e+00,  -3.00000012e-01,   0.00000000e+00,\n",
       "         0.00000000e+00,   0.00000000e+00,   0.00000000e+00,\n",
       "        -1.00000001e-01,  -1.20000005e+00,   1.99999809e-01,\n",
       "         1.43999996e+01,   3.65999985e+01,   6.54000015e+01,\n",
       "         8.78000031e+01,   9.94000015e+01,   9.70000000e+01,\n",
       "         8.41000061e+01,   7.08000031e+01,   5.96999969e+01,\n",
       "         5.58999939e+01,   5.03000031e+01,   4.20000000e+01,\n",
       "         3.29000015e+01,   2.09000015e+01,   9.59999847e+00,\n",
       "         1.20000076e+00,  -3.10000038e+00,  -4.30000019e+00,\n",
       "        -2.50000000e+00,  -6.00000024e-01,  -1.00000001e-01,\n",
       "         0.00000000e+00,   0.00000000e+00,   0.00000000e+00,\n",
       "         0.00000000e+00,   0.00000000e+00,  -4.00000006e-01,\n",
       "        -1.00000000e+00,   1.69999981e+00,   1.11000004e+01,\n",
       "         2.57000008e+01,   4.47000008e+01,   5.85000000e+01,\n",
       "         6.53000031e+01,   6.64000015e+01,   5.63999939e+01,\n",
       "         4.56999969e+01,   3.05999985e+01,   1.78000031e+01,\n",
       "         8.30000305e+00,   1.09999847e+00,  -4.90000153e+00,\n",
       "        -7.20000076e+00,  -7.50000000e+00,  -5.09999990e+00,\n",
       "        -2.70000005e+00,  -8.99999976e-01,  -1.00000001e-01,\n",
       "         0.00000000e+00,   0.00000000e+00,   0.00000000e+00,\n",
       "         0.00000000e+00,   0.00000000e+00,   0.00000000e+00,\n",
       "        -1.00000001e-01,  -5.00000000e-01,  -1.70000005e+00,\n",
       "        -2.30000019e+00,  -3.80000019e+00,  -3.89999962e+00,\n",
       "        -5.40000153e+00,  -7.09999847e+00,  -1.01999969e+01,\n",
       "        -1.40000000e+01,  -1.70000000e+01,  -1.88000031e+01,\n",
       "        -2.04000015e+01,  -2.00000000e+01,  -1.72000008e+01,\n",
       "        -1.23999996e+01,  -8.50000000e+00,  -5.30000019e+00,\n",
       "        -2.29999995e+00,  -8.00000012e-01,  -2.00000003e-01,\n",
       "         0.00000000e+00,   0.00000000e+00,   0.00000000e+00,\n",
       "         0.00000000e+00,   0.00000000e+00,   0.00000000e+00,\n",
       "         0.00000000e+00,   0.00000000e+00,   0.00000000e+00,\n",
       "        -5.00000000e-01,  -1.60000002e+00,  -3.70000005e+00,\n",
       "        -7.69999981e+00,  -1.21000004e+01,  -1.72000008e+01,\n",
       "        -2.11000004e+01,  -2.27000008e+01,  -2.37000008e+01,\n",
       "        -2.17000008e+01,  -1.86000004e+01,  -1.51000004e+01,\n",
       "        -1.06999998e+01,  -6.90000010e+00,  -4.00000000e+00,\n",
       "        -1.89999998e+00,  -8.00000012e-01,  -2.00000003e-01,\n",
       "         0.00000000e+00,   0.00000000e+00,   0.00000000e+00,\n",
       "         0.00000000e+00,   0.00000000e+00,   0.00000000e+00,\n",
       "         0.00000000e+00,   0.00000000e+00,   0.00000000e+00,\n",
       "         0.00000000e+00,  -1.00000001e-01,  -6.00000024e-01,\n",
       "        -1.39999998e+00,  -2.79999995e+00,  -4.40000010e+00,\n",
       "        -6.40000010e+00,  -8.00000000e+00,  -8.89999962e+00,\n",
       "        -8.69999981e+00,  -7.69999981e+00,  -6.19999981e+00,\n",
       "        -4.90000010e+00,  -3.59999990e+00,  -2.20000005e+00,\n",
       "        -1.29999995e+00,  -5.00000000e-01,  -2.00000003e-01,\n",
       "         0.00000000e+00,   0.00000000e+00,   0.00000000e+00,\n",
       "         0.00000000e+00,   0.00000000e+00,   0.00000000e+00,\n",
       "         0.00000000e+00,   0.00000000e+00,   0.00000000e+00,\n",
       "         0.00000000e+00,   0.00000000e+00,   0.00000000e+00,\n",
       "        -4.00000006e-01,  -1.10000002e+00,  -2.09999990e+00,\n",
       "        -3.40000010e+00,  -4.69999981e+00,  -5.80000019e+00,\n",
       "        -6.30000019e+00,  -6.09999990e+00,  -5.40000010e+00,\n",
       "        -4.30000019e+00,  -3.40000010e+00,  -2.50000000e+00,\n",
       "        -1.60000002e+00,  -8.99999976e-01,  -4.00000006e-01,\n",
       "        -1.00000001e-01,   0.00000000e+00,   0.00000000e+00,\n",
       "         0.00000000e+00,   0.00000000e+00,   0.00000000e+00,\n",
       "         0.00000000e+00,   0.00000000e+00,   0.00000000e+00], dtype=float32)"
      ]
     },
     "execution_count": 17,
     "metadata": {},
     "output_type": "execute_result"
    }
   ],
   "source": [
    "img_vec[:,0]"
   ]
  },
  {
   "cell_type": "code",
   "execution_count": 18,
   "metadata": {
    "collapsed": false
   },
   "outputs": [],
   "source": [
    "a= img_vec\n",
    "b = a.transpose()"
   ]
  },
  {
   "cell_type": "code",
   "execution_count": 19,
   "metadata": {
    "collapsed": false
   },
   "outputs": [
    {
     "data": {
      "text/plain": [
       "786"
      ]
     },
     "execution_count": 19,
     "metadata": {},
     "output_type": "execute_result"
    }
   ],
   "source": [
    "img_mul = np.zeros((10,10),dtype='float32')\n",
    "len(a)"
   ]
  },
  {
   "cell_type": "markdown",
   "metadata": {},
   "source": [
    "# PCA #"
   ]
  },
  {
   "cell_type": "code",
   "execution_count": 20,
   "metadata": {
    "collapsed": false
   },
   "outputs": [],
   "source": [
    "def matmul(a,b):\n",
    "    rows_A = len(a)\n",
    "    cols_A = len(a[0])\n",
    "    rows_B = len(b)\n",
    "    cols_B = len(b[0])\n",
    "    mat = np.zeros((rows_A,cols_B),dtype = 'float32')\n",
    "    for i in range(rows_A):\n",
    "            for j in range(cols_B):\n",
    "                for k in range(cols_A):\n",
    "                    mat[i][j] += a[i][k] * b[k][j]\n",
    "    return mat"
   ]
  },
  {
   "cell_type": "markdown",
   "metadata": {},
   "source": [
    "## Calculation of Eigen Vectors of AA'. ##\n",
    "##### Multiplication of AA' is very expensive. The size of the array becomes 786x786. We instead multiply A'A. The size of this array becomes 10x10. The eigen vectors with respect to this are the best.  "
   ]
  },
  {
   "cell_type": "code",
   "execution_count": 21,
   "metadata": {
    "collapsed": false
   },
   "outputs": [],
   "source": [
    "img_mul = matmul(b,a)"
   ]
  },
  {
   "cell_type": "code",
   "execution_count": 22,
   "metadata": {
    "collapsed": true
   },
   "outputs": [],
   "source": [
    "if(np.isnan(img_mul).any()):\n",
    "    img_mul = np.nan_to_num(img_mul)"
   ]
  },
  {
   "cell_type": "code",
   "execution_count": 23,
   "metadata": {
    "collapsed": false
   },
   "outputs": [],
   "source": [
    "W,V = np.linalg.eig(img_mul)"
   ]
  },
  {
   "cell_type": "code",
   "execution_count": 24,
   "metadata": {
    "collapsed": false
   },
   "outputs": [
    {
     "name": "stdout",
     "output_type": "stream",
     "text": [
      "Eigen Vectors are \n",
      " [[ 0.74981326 -0.13256563  0.19410579 -0.4317835  -0.31622794 -0.08266932\n",
      "  -0.14320591  0.11728632 -0.12597409  0.19779934]\n",
      " [-0.46802005  0.52500468  0.05908781 -0.48974434 -0.3162277  -0.31917813\n",
      "  -0.1001591   0.14536025 -0.08172572  0.14923546]\n",
      " [ 0.10968275  0.33947814 -0.32925099 -0.03643297 -0.31622785  0.67416602\n",
      "  -0.11222312  0.19089131  0.38071933 -0.12045787]\n",
      " [ 0.06878152  0.27919668  0.38217357  0.43553665 -0.31622764  0.13473147\n",
      "   0.57020468  0.1834913  -0.26153487  0.19029997]\n",
      " [-0.17372999 -0.43002081 -0.30026644  0.09701371 -0.31622809 -0.09288783\n",
      "  -0.05149538  0.62005472 -0.33074629 -0.28317356]\n",
      " [ 0.11824616  0.03926395  0.22577186  0.18974601 -0.31622741 -0.45910552\n",
      "   0.04279504 -0.02928394  0.55607557 -0.52422613]\n",
      " [ 0.13037661  0.03057449 -0.66906261  0.00622656 -0.31622759 -0.23195055\n",
      "   0.3663559  -0.47548187 -0.12991199  0.0583601 ]\n",
      " [-0.2869339  -0.36855805  0.32753775 -0.35654503 -0.31622797  0.37944025\n",
      "   0.18388873 -0.40775743 -0.11094975 -0.30176559]\n",
      " [-0.00647105  0.13313413  0.08864685  0.43160507 -0.31622794  0.02568414\n",
      "  -0.6724683  -0.3425304  -0.34224084 -0.02762115]\n",
      " [-0.24174541 -0.41550708  0.02125645  0.15437837 -0.3162275  -0.02823152\n",
      "  -0.08369169 -0.00203079  0.44629008  0.66154999]] \n",
      "Eigen Values are\n",
      " [  3.24536175e+06   2.38304350e+06   1.96627188e+06   1.15004650e+06\n",
      "  -3.54687780e-01   8.84054875e+05   6.43882875e+05   4.86209375e+05\n",
      "   1.46918859e+05   2.03394906e+05]\n"
     ]
    }
   ],
   "source": [
    "print('Eigen Vectors are \\n', V, '\\nEigen Values are\\n', W )"
   ]
  },
  {
   "cell_type": "code",
   "execution_count": 25,
   "metadata": {
    "collapsed": false
   },
   "outputs": [
    {
     "data": {
      "text/plain": [
       "(10,)"
      ]
     },
     "execution_count": 25,
     "metadata": {},
     "output_type": "execute_result"
    }
   ],
   "source": [
    "W.shape"
   ]
  },
  {
   "cell_type": "code",
   "execution_count": 26,
   "metadata": {
    "collapsed": false
   },
   "outputs": [
    {
     "data": {
      "text/plain": [
       "(10, 10)"
      ]
     },
     "execution_count": 26,
     "metadata": {},
     "output_type": "execute_result"
    }
   ],
   "source": [
    "V.shape"
   ]
  },
  {
   "cell_type": "code",
   "execution_count": 27,
   "metadata": {
    "collapsed": false
   },
   "outputs": [],
   "source": [
    "eigs = matmul(img_vec,V)"
   ]
  },
  {
   "cell_type": "code",
   "execution_count": 28,
   "metadata": {
    "collapsed": false
   },
   "outputs": [
    {
     "data": {
      "text/plain": [
       "array([  0.00000000e+00,   0.00000000e+00,   0.00000000e+00,\n",
       "         0.00000000e+00,   0.00000000e+00,   0.00000000e+00,\n",
       "         0.00000000e+00,   0.00000000e+00,   0.00000000e+00,\n",
       "         0.00000000e+00,   0.00000000e+00,   0.00000000e+00,\n",
       "         1.30376607e-01,   1.30376607e-01,   1.30376607e-01,\n",
       "         1.30376607e-01,   1.30376607e-01,   0.00000000e+00,\n",
       "         0.00000000e+00,   0.00000000e+00,   0.00000000e+00,\n",
       "         0.00000000e+00,   0.00000000e+00,   0.00000000e+00,\n",
       "         0.00000000e+00,   0.00000000e+00,   0.00000000e+00,\n",
       "         0.00000000e+00,   0.00000000e+00,   0.00000000e+00,\n",
       "         0.00000000e+00,   0.00000000e+00,   0.00000000e+00,\n",
       "         0.00000000e+00,   0.00000000e+00,   0.00000000e+00,\n",
       "         0.00000000e+00,   0.00000000e+00,   1.30376607e-01,\n",
       "         1.30376607e-01,   2.60753214e-01,   2.60753214e-01,\n",
       "         2.60753214e-01,   2.60753214e-01,   2.60753214e-01,\n",
       "         1.30376607e-01,   1.30376607e-01,   0.00000000e+00,\n",
       "         0.00000000e+00,   0.00000000e+00,   0.00000000e+00,\n",
       "         0.00000000e+00,   0.00000000e+00,   0.00000000e+00,\n",
       "         0.00000000e+00,   0.00000000e+00,   0.00000000e+00,\n",
       "         0.00000000e+00,   0.00000000e+00,   0.00000000e+00,\n",
       "         0.00000000e+00,   0.00000000e+00,   0.00000000e+00,\n",
       "         1.30376607e-01,   3.70436013e-01,   7.61565924e-01,\n",
       "         1.37206113e+00,   2.37368631e+00,   3.39600539e+00,\n",
       "         4.54870129e+00,   5.70139694e+00,   6.37397385e+00,\n",
       "         6.39466763e+00,   5.65379524e+00,   4.52179337e+00,\n",
       "         3.10834503e+00,   1.56451952e+00,   7.82259762e-01,\n",
       "         2.60753214e-01,   0.00000000e+00,   0.00000000e+00,\n",
       "         0.00000000e+00,   0.00000000e+00,   0.00000000e+00,\n",
       "         0.00000000e+00,   0.00000000e+00,   0.00000000e+00,\n",
       "         0.00000000e+00,   0.00000000e+00,   0.00000000e+00,\n",
       "         2.40059391e-01,   5.89801550e-01,   1.90696764e+00,\n",
       "         3.70425224e+00,   6.29049683e+00,   1.08241491e+01,\n",
       "         1.52327051e+01,   2.02058811e+01,   2.45874977e+01,\n",
       "         2.69371986e+01,   2.72915916e+01,   2.35345707e+01,\n",
       "         1.76607590e+01,   1.26779232e+01,   7.30183554e+00,\n",
       "         3.60664916e+00,   1.27950525e+00,   2.60753214e-01,\n",
       "         1.30376607e-01,   0.00000000e+00,   0.00000000e+00,\n",
       "         0.00000000e+00,   0.00000000e+00,   0.00000000e+00,\n",
       "         0.00000000e+00,   0.00000000e+00,   0.00000000e+00,\n",
       "         2.47245833e-01,   1.13238084e+00,   3.11037254e+00,\n",
       "         7.66336060e+00,   1.47075634e+01,   2.42273693e+01,\n",
       "         3.84464302e+01,   5.20439377e+01,   6.62543335e+01,\n",
       "         7.82276077e+01,   8.68964767e+01,   8.87944870e+01,\n",
       "         7.97735138e+01,   6.16311836e+01,   4.14076157e+01,\n",
       "         2.31421356e+01,   1.20688238e+01,   4.75571060e+00,\n",
       "         7.15565920e-01,   6.66123688e-01,   1.18246183e-01,\n",
       "         0.00000000e+00,   0.00000000e+00,   0.00000000e+00,\n",
       "         0.00000000e+00,   0.00000000e+00,   0.00000000e+00,\n",
       "         2.06344590e-01,   1.01441157e+00,   3.76815009e+00,\n",
       "         8.02555847e+00,   1.72238541e+01,   3.20356598e+01,\n",
       "         5.23168640e+01,   7.66111984e+01,   9.99638367e+01,\n",
       "         1.17456558e+02,   1.28030457e+02,   1.36689957e+02,\n",
       "         1.35344498e+02,   1.28760223e+02,   1.07128540e+02,\n",
       "         8.30917664e+01,   5.44177589e+01,   3.12553253e+01,\n",
       "         1.48884735e+01,   4.11172199e+00,   1.60804474e+00,\n",
       "         6.47522151e-01,   0.00000000e+00,   0.00000000e+00,\n",
       "         0.00000000e+00,   0.00000000e+00,   0.00000000e+00,\n",
       "         6.87815398e-02,   1.30489632e-01,   8.73691201e-01,\n",
       "         4.26412249e+00,   1.12590542e+01,   2.36231079e+01,\n",
       "         4.18113747e+01,   6.80267792e+01,   9.41760178e+01,\n",
       "         1.11218788e+02,   1.17810890e+02,   1.15030029e+02,\n",
       "         1.11208305e+02,   1.10137398e+02,   1.12216812e+02,\n",
       "         1.12741295e+02,   1.04619385e+02,   8.39539108e+01,\n",
       "         5.86289825e+01,   3.21983833e+01,   1.47462063e+01,\n",
       "         3.86593723e+00,   1.52506566e+00,   3.54738563e-01,\n",
       "         1.18246183e-01,   0.00000000e+00,   0.00000000e+00,\n",
       "         0.00000000e+00,  -6.54457033e-01,  -1.77543831e+00,\n",
       "        -2.71210408e+00,  -1.32044744e+00,   4.06662989e+00,\n",
       "         1.55903187e+01,   3.50430107e+01,   5.89770393e+01,\n",
       "         7.75080643e+01,   8.31945648e+01,   7.64341202e+01,\n",
       "         6.22401657e+01,   4.86570625e+01,   4.68673515e+01,\n",
       "         5.84074783e+01,   7.62456818e+01,   9.39143295e+01,\n",
       "         9.56868896e+01,   7.70581284e+01,   5.20091362e+01,\n",
       "         2.48963070e+01,   8.06368828e+00,   2.45809317e+00,\n",
       "         5.84759831e-01,   1.18246183e-01,   0.00000000e+00,\n",
       "         0.00000000e+00,  -8.60801697e-01,  -2.66299415e+00,\n",
       "        -5.97271347e+00,  -9.35289288e+00,  -9.49682999e+00,\n",
       "        -3.92702127e+00,   9.45209122e+00,   2.49110584e+01,\n",
       "         4.58900223e+01,   5.88801880e+01,   5.82582016e+01,\n",
       "         3.94920845e+01,   1.37749424e+01,  -9.91075325e+00,\n",
       "        -1.40700769e+01,   5.38125420e+00,   3.63602409e+01,\n",
       "         7.13227921e+01,   9.52513123e+01,   9.51776199e+01,\n",
       "         6.96819839e+01,   3.82003632e+01,   1.21292667e+01,\n",
       "         2.56339717e+00,   4.66513664e-01,   1.18246183e-01,\n",
       "         0.00000000e+00,   0.00000000e+00,  -1.43466938e+00,\n",
       "        -4.34017563e+00,  -9.18340874e+00,  -1.35409393e+01,\n",
       "        -1.06713715e+01,  -3.31313682e+00,   9.28434181e+00,\n",
       "         2.74816895e+01,   4.51624832e+01,   5.74214554e+01,\n",
       "         4.93833542e+01,   1.57310543e+01,  -2.59431725e+01,\n",
       "        -6.00071297e+01,  -6.59818954e+01,  -4.51012192e+01,\n",
       "        -2.44868469e+00,   4.77297440e+01,   9.21377945e+01,\n",
       "         1.06815712e+02,   8.88566742e+01,   5.27095642e+01,\n",
       "         1.68627396e+01,   1.90940380e+00,   3.48267496e-01,\n",
       "         1.18246183e-01,   0.00000000e+00,  -2.86933869e-01,\n",
       "        -1.43466938e+00,  -4.69589090e+00,  -9.71956635e+00,\n",
       "        -1.02777243e+01,  -3.09349036e+00,   8.10298538e+00,\n",
       "         2.36895809e+01,   4.09643936e+01,   6.10615616e+01,\n",
       "         7.15996323e+01,   5.56353149e+01,   1.06467676e+01,\n",
       "        -4.52667885e+01,  -9.27024765e+01,  -1.08381920e+02,\n",
       "        -8.73839264e+01,  -4.06011734e+01,   2.68851089e+01,\n",
       "         8.60656815e+01,   1.15277367e+02,   1.02976433e+02,\n",
       "         6.83659286e+01,   2.23473682e+01,   1.66342735e+00,\n",
       "         1.18246183e-01,   0.00000000e+00,   0.00000000e+00,\n",
       "         0.00000000e+00,  -1.14773548e+00,  -3.78990054e+00,\n",
       "        -7.98271036e+00,  -1.72809374e+00,   1.14700861e+01,\n",
       "         2.67302303e+01,   4.70474854e+01,   6.67691498e+01,\n",
       "         8.49457550e+01,   9.14070053e+01,   6.73811417e+01,\n",
       "         1.37335110e+00,  -6.30336876e+01,  -1.11707314e+02,\n",
       "        -1.35044342e+02,  -1.11022552e+02,  -5.64295120e+01,\n",
       "         1.51481218e+01,   8.58088760e+01,   1.24584755e+02,\n",
       "         1.16339890e+02,   8.08369064e+01,   2.86973228e+01,\n",
       "         1.08513856e+00,   0.00000000e+00,   0.00000000e+00,\n",
       "         0.00000000e+00,   0.00000000e+00,  -5.73867738e-01,\n",
       "        -2.71094632e+00,  -3.84970331e+00,   1.10864964e+01,\n",
       "         3.01635933e+01,   5.13568268e+01,   7.09389648e+01,\n",
       "         8.81954880e+01,   9.79173584e+01,   9.61825867e+01,\n",
       "         5.58042679e+01,  -3.31451187e+01,  -8.68703918e+01,\n",
       "        -1.30650375e+02,  -1.49914993e+02,  -1.09820587e+02,\n",
       "        -5.47045822e+01,   1.70619240e+01,   9.30578918e+01,\n",
       "         1.36566498e+02,   1.27327568e+02,   8.92018356e+01,\n",
       "         3.50410233e+01,   2.50372195e+00,   0.00000000e+00,\n",
       "         0.00000000e+00,   0.00000000e+00,   0.00000000e+00,\n",
       "        -2.86933869e-01,  -1.97868645e+00,   5.00099659e-01,\n",
       "         2.45120354e+01,   5.07113724e+01,   7.44767914e+01,\n",
       "         9.21979294e+01,   9.95252686e+01,   9.59311371e+01,\n",
       "         7.79435959e+01,   1.18570471e+01,  -8.01984329e+01,\n",
       "        -1.14592590e+02,  -1.52151459e+02,  -1.54709351e+02,\n",
       "        -9.31845779e+01,  -4.24987755e+01,   2.91080589e+01,\n",
       "         1.07134239e+02,   1.45779541e+02,   1.32222946e+02,\n",
       "         9.02413177e+01,   3.70838509e+01,   3.50006557e+00,\n",
       "         0.00000000e+00,   0.00000000e+00,   0.00000000e+00,\n",
       "         0.00000000e+00,   0.00000000e+00,  -1.40481853e+00,\n",
       "         6.26004219e+00,   3.98175240e+01,   7.17359695e+01,\n",
       "         9.65165100e+01,   1.07527695e+02,   9.98350601e+01,\n",
       "         7.87599182e+01,   4.02866287e+01,  -4.96576500e+01,\n",
       "        -1.16890350e+02,  -1.40939514e+02,  -1.71098953e+02,\n",
       "        -1.45076202e+02,  -7.25610886e+01,  -2.40235767e+01,\n",
       "         5.60050774e+01,   1.26745369e+02,   1.52659683e+02,\n",
       "         1.32162506e+02,   8.57166901e+01,   3.69076576e+01,\n",
       "         3.87050176e+00,   0.00000000e+00,   0.00000000e+00,\n",
       "         0.00000000e+00,   0.00000000e+00,   0.00000000e+00,\n",
       "        -8.76139283e-01,   1.38269424e+01,   5.53606300e+01,\n",
       "         9.31033554e+01,   1.18150528e+02,   1.21875763e+02,\n",
       "         9.63723679e+01,   5.80450630e+01,  -4.37896252e+00,\n",
       "        -9.36007462e+01,  -1.42446793e+02,  -1.65574432e+02,\n",
       "        -1.82839203e+02,  -1.25305717e+02,  -5.73779335e+01,\n",
       "         5.77922344e+00,   8.83046265e+01,   1.47450806e+02,\n",
       "         1.56444901e+02,   1.26087715e+02,   7.82766647e+01,\n",
       "         3.29911804e+01,   3.16632390e+00,   1.09682761e-01,\n",
       "         1.09682761e-01,   0.00000000e+00,   0.00000000e+00,\n",
       "         0.00000000e+00,   9.33011949e-01,   2.23226318e+01,\n",
       "         7.39006805e+01,   1.13543495e+02,   1.41354599e+02,\n",
       "         1.36754456e+02,   9.95284882e+01,   4.21753082e+01,\n",
       "        -3.19567375e+01,  -1.06180473e+02,  -1.54527405e+02,\n",
       "        -1.79214417e+02,  -1.76110641e+02,  -1.02481415e+02,\n",
       "        -2.98323402e+01,   4.96500092e+01,   1.27753578e+02,\n",
       "         1.66826340e+02,   1.56165237e+02,   1.15636215e+02,\n",
       "         6.87002792e+01,   2.71919479e+01,   2.91928864e+00,\n",
       "         1.09682761e-01,   0.00000000e+00,   0.00000000e+00,\n",
       "         0.00000000e+00,   6.87815398e-02,   1.68303597e+00,\n",
       "         2.93919735e+01,   8.80072479e+01,   1.32763947e+02,\n",
       "         1.65126297e+02,   1.59770340e+02,   1.16603561e+02,\n",
       "         4.86411285e+01,  -2.73527203e+01,  -9.62142334e+01,\n",
       "        -1.49068115e+02,  -1.69727737e+02,  -1.40637039e+02,\n",
       "        -6.69772949e+01,   1.94358273e+01,   1.03222397e+02,\n",
       "         1.62214844e+02,   1.75855209e+02,   1.48419510e+02,\n",
       "         1.01671844e+02,   5.63110657e+01,   1.99187012e+01,\n",
       "         2.34745336e+00,   2.19365522e-01,   0.00000000e+00,\n",
       "         0.00000000e+00,   0.00000000e+00,   6.87815398e-02,\n",
       "         2.35599184e+00,   3.43384743e+01,   9.53010330e+01,\n",
       "         1.46000092e+02,   1.82871735e+02,   1.82606995e+02,\n",
       "         1.43010544e+02,   7.85466156e+01,   2.16145325e+00,\n",
       "        -6.77806244e+01,  -1.20059288e+02,  -1.24763557e+02,\n",
       "        -8.17410736e+01,  -4.79399681e+00,   8.20263062e+01,\n",
       "         1.50812241e+02,   1.82700912e+02,   1.70148804e+02,\n",
       "         1.28781174e+02,   8.21537857e+01,   4.03194122e+01,\n",
       "         1.33089380e+01,   1.33688712e+00,   1.09682761e-01,\n",
       "         0.00000000e+00,   0.00000000e+00,   0.00000000e+00,\n",
       "         2.06344590e-01,   2.78170204e+00,   3.33804550e+01,\n",
       "         9.26162033e+01,   1.47539703e+02,   1.89315079e+02,\n",
       "         2.00695694e+02,   1.73480545e+02,   1.18060989e+02,\n",
       "         4.90111961e+01,  -1.87716999e+01,  -6.13607979e+01,\n",
       "        -5.47106857e+01,  -8.21197319e+00,   6.08428574e+01,\n",
       "         1.33927979e+02,   1.74752747e+02,   1.76608597e+02,\n",
       "         1.44430130e+02,   9.92794495e+01,   5.79031105e+01,\n",
       "         2.55461235e+01,   7.20759773e+00,   1.09682751e+00,\n",
       "         1.09682761e-01,   0.00000000e+00,   0.00000000e+00,\n",
       "         0.00000000e+00,   2.06344590e-01,   2.46616244e+00,\n",
       "         2.78027477e+01,   7.83342285e+01,   1.34044098e+02,\n",
       "         1.81215210e+02,   2.03388458e+02,   1.95172791e+02,\n",
       "         1.58000214e+02,   1.05712151e+02,   4.84629440e+01,\n",
       "         1.42052879e+01,   2.15485916e+01,   5.79526329e+01,\n",
       "         1.09749046e+02,   1.52302063e+02,   1.62971024e+02,\n",
       "         1.38652069e+02,   1.02805466e+02,   6.55243530e+01,\n",
       "         3.43271561e+01,   1.37189903e+01,   3.83158636e+00,\n",
       "         6.58096552e-01,   1.09682761e-01,   0.00000000e+00,\n",
       "         0.00000000e+00,   0.00000000e+00,   1.37563080e-01,\n",
       "         1.84040380e+00,   1.82538223e+01,   5.57744637e+01,\n",
       "         1.05454582e+02,   1.53828278e+02,   1.82228302e+02,\n",
       "         1.86769531e+02,   1.66458206e+02,   1.29991394e+02,\n",
       "         9.09420319e+01,   6.61058426e+01,   6.88059082e+01,\n",
       "         9.11542130e+01,   1.15482155e+02,   1.25471375e+02,\n",
       "         1.13860695e+02,   8.92028732e+01,   5.96722794e+01,\n",
       "         3.27296448e+01,   1.53565407e+01,   5.33519936e+00,\n",
       "         1.76348758e+00,   3.29048276e-01,   0.00000000e+00,\n",
       "         0.00000000e+00,   0.00000000e+00,   0.00000000e+00,\n",
       "         6.87815398e-02,   9.48082149e-01,   7.39333200e+00,\n",
       "         2.86090508e+01,   6.37046967e+01,   1.04524445e+02,\n",
       "         1.33387085e+02,   1.44241425e+02,   1.34703049e+02,\n",
       "         1.09662338e+02,   8.41661072e+01,   6.50629654e+01,\n",
       "         6.26241493e+01,   6.75946655e+01,   7.15567322e+01,\n",
       "         6.90464706e+01,   5.51590691e+01,   3.73453255e+01,\n",
       "         2.16698761e+01,   1.04360466e+01,   3.94063711e+00,\n",
       "         1.38192379e+00,   6.58096552e-01,   1.09682761e-01,\n",
       "         0.00000000e+00,   0.00000000e+00,   0.00000000e+00,\n",
       "         0.00000000e+00,   0.00000000e+00,   2.75126159e-01,\n",
       "         1.87311518e+00,   8.25074100e+00,   2.32355328e+01,\n",
       "         4.36228905e+01,   6.43700714e+01,   7.56783066e+01,\n",
       "         7.33641968e+01,   6.51269073e+01,   4.74538612e+01,\n",
       "         3.23542404e+01,   1.79276428e+01,   1.26622849e+01,\n",
       "         1.29026012e+01,   1.07777252e+01,   4.91294336e+00,\n",
       "         9.19591904e-01,  -1.84143519e+00,  -1.30869007e+00,\n",
       "        -8.11716735e-01,   9.43914056e-03,   1.09682761e-01,\n",
       "         0.00000000e+00,   0.00000000e+00,   0.00000000e+00,\n",
       "         0.00000000e+00,   0.00000000e+00,   0.00000000e+00,\n",
       "         6.87815398e-02,  -1.18077546e-02,  -2.34175012e-01,\n",
       "        -1.38153315e-01,   1.45604670e-01,   1.30094767e+00,\n",
       "        -2.05546188e+00,  -7.15070057e+00,  -1.26884174e+01,\n",
       "        -1.98517704e+01,  -2.45411835e+01,  -2.85502148e+01,\n",
       "        -2.89619179e+01,  -2.64420967e+01,  -2.31731567e+01,\n",
       "        -1.66194782e+01,  -1.16373787e+01,  -7.41220379e+00,\n",
       "        -3.37186718e+00,  -1.44650412e+00,  -4.83490795e-01,\n",
       "         0.00000000e+00,   0.00000000e+00,   0.00000000e+00,\n",
       "         0.00000000e+00,   0.00000000e+00,   0.00000000e+00,\n",
       "         0.00000000e+00,   0.00000000e+00,   0.00000000e+00,\n",
       "        -1.03376555e+00,  -3.10776758e+00,  -7.19555998e+00,\n",
       "        -1.42185793e+01,  -2.31333981e+01,  -3.35202866e+01,\n",
       "        -4.10232658e+01,  -4.44281502e+01,  -4.54430771e+01,\n",
       "        -4.15372772e+01,  -3.54089661e+01,  -2.94052811e+01,\n",
       "        -2.20813084e+01,  -1.45433159e+01,  -8.92148495e+00,\n",
       "        -4.66071320e+00,  -1.97915161e+00,  -4.83490795e-01,\n",
       "         0.00000000e+00,   0.00000000e+00,   0.00000000e+00,\n",
       "         0.00000000e+00,   0.00000000e+00,   0.00000000e+00,\n",
       "         0.00000000e+00,   0.00000000e+00,   0.00000000e+00,\n",
       "         0.00000000e+00,  -2.86933869e-01,  -1.67641485e+00,\n",
       "        -3.92669749e+00,  -7.85339499e+00,  -1.22635822e+01,\n",
       "        -1.73711395e+01,  -2.16909485e+01,  -2.33768921e+01,\n",
       "        -2.27578373e+01,  -2.03840542e+01,  -1.65261383e+01,\n",
       "        -1.28411894e+01,  -9.20142365e+00,  -5.77028418e+00,\n",
       "        -3.36863256e+00,  -1.25391555e+00,  -4.83490795e-01,\n",
       "         0.00000000e+00,   0.00000000e+00,   0.00000000e+00,\n",
       "         0.00000000e+00,   0.00000000e+00,   0.00000000e+00,\n",
       "         0.00000000e+00,   0.00000000e+00,   0.00000000e+00,\n",
       "         0.00000000e+00,   0.00000000e+00,   0.00000000e+00,\n",
       "        -1.14773548e+00,  -3.11108422e+00,  -5.89004564e+00,\n",
       "        -9.48462200e+00,  -1.30791960e+01,  -1.60547161e+01,\n",
       "        -1.73990078e+01,  -1.67799511e+01,  -1.48617916e+01,\n",
       "        -1.17507067e+01,  -9.21349049e+00,  -6.72146225e+00,\n",
       "        -4.22943449e+00,  -2.35646248e+00,  -1.01217008e+00,\n",
       "        -2.41745397e-01,   0.00000000e+00,   0.00000000e+00,\n",
       "         0.00000000e+00,   0.00000000e+00,   0.00000000e+00,\n",
       "         0.00000000e+00,   0.00000000e+00,   0.00000000e+00], dtype=float32)"
      ]
     },
     "execution_count": 28,
     "metadata": {},
     "output_type": "execute_result"
    }
   ],
   "source": [
    "eigs[:,0]"
   ]
  },
  {
   "cell_type": "code",
   "execution_count": 29,
   "metadata": {
    "collapsed": false
   },
   "outputs": [
    {
     "data": {
      "text/plain": [
       "(786, 10)"
      ]
     },
     "execution_count": 29,
     "metadata": {},
     "output_type": "execute_result"
    }
   ],
   "source": [
    "eigs.shape"
   ]
  },
  {
   "cell_type": "code",
   "execution_count": 30,
   "metadata": {
    "collapsed": false
   },
   "outputs": [
    {
     "data": {
      "text/plain": [
       "array([  3.24536175e+06,   2.38304350e+06,   1.96627188e+06,\n",
       "         1.15004650e+06,  -3.54687780e-01,   8.84054875e+05,\n",
       "         6.43882875e+05,   4.86209375e+05,   1.46918859e+05,\n",
       "         2.03394906e+05], dtype=float32)"
      ]
     },
     "execution_count": 30,
     "metadata": {},
     "output_type": "execute_result"
    }
   ],
   "source": [
    "W"
   ]
  },
  {
   "cell_type": "markdown",
   "metadata": {},
   "source": [
    "### Taking the best Eigen vectors. Earlier I decided to use the best 5. But inoder to increase the accuracy, had to take up all 10 vectors. ###"
   ]
  },
  {
   "cell_type": "code",
   "execution_count": 31,
   "metadata": {
    "collapsed": true
   },
   "outputs": [],
   "source": [
    "\n",
    "bestW= np.zeros(10,dtype = 'float32')\n",
    "bestV = np.zeros((786,10),dtype = 'float32')\n",
    "for i in range(10):\n",
    "    max = 0\n",
    "    index = -1\n",
    "    for j in range(10):\n",
    "        if(W[j] > max):\n",
    "            max = W[j]\n",
    "            index = j\n",
    "    bestW[i] = W[index]\n",
    "    bestV[:,i] = eigs[:,index]\n",
    "    W[index] = 0.0\n",
    "bestW[9] = W[4]\n",
    "bestV[9] = eigs[4]\n",
    "        \n",
    "    \n"
   ]
  },
  {
   "cell_type": "code",
   "execution_count": 32,
   "metadata": {
    "collapsed": false
   },
   "outputs": [
    {
     "data": {
      "text/plain": [
       "array([  3.24536175e+06,   2.38304350e+06,   1.96627188e+06,\n",
       "         1.15004650e+06,   8.84054875e+05,   6.43882875e+05,\n",
       "         4.86209375e+05,   2.03394906e+05,   1.46918859e+05,\n",
       "        -3.54687780e-01], dtype=float32)"
      ]
     },
     "execution_count": 32,
     "metadata": {},
     "output_type": "execute_result"
    }
   ],
   "source": [
    "bestW"
   ]
  },
  {
   "cell_type": "code",
   "execution_count": 33,
   "metadata": {
    "collapsed": false
   },
   "outputs": [
    {
     "data": {
      "text/plain": [
       "array([ 0.        ,  0.        ,  0.        ,  0.        , -0.35468778,\n",
       "        0.        ,  0.        ,  0.        ,  0.        ,  0.        ], dtype=float32)"
      ]
     },
     "execution_count": 33,
     "metadata": {},
     "output_type": "execute_result"
    }
   ],
   "source": [
    "W"
   ]
  },
  {
   "cell_type": "code",
   "execution_count": 34,
   "metadata": {
    "collapsed": false
   },
   "outputs": [
    {
     "name": "stdout",
     "output_type": "stream",
     "text": [
      "(786, 10)\n",
      "(10,)\n"
     ]
    }
   ],
   "source": [
    "print(bestV.shape)\n",
    "print(bestW.shape)"
   ]
  },
  {
   "cell_type": "code",
   "execution_count": 35,
   "metadata": {
    "collapsed": false
   },
   "outputs": [
    {
     "data": {
      "text/plain": [
       "(10, 786)"
      ]
     },
     "execution_count": 35,
     "metadata": {},
     "output_type": "execute_result"
    }
   ],
   "source": [
    "bestV.transpose().shape"
   ]
  },
  {
   "cell_type": "code",
   "execution_count": 36,
   "metadata": {
    "collapsed": true
   },
   "outputs": [],
   "source": [
    "temp = bestV.transpose()"
   ]
  },
  {
   "cell_type": "markdown",
   "metadata": {},
   "source": [
    "### Normalizing the images w.r.t the Eigen Vectors ###"
   ]
  },
  {
   "cell_type": "code",
   "execution_count": 37,
   "metadata": {
    "collapsed": false
   },
   "outputs": [],
   "source": [
    "# normalized images with respect to eigen vectors\n",
    "omega = np.zeros((10,10),dtype = 'float32')\n",
    "bestV_trans = bestV.transpose()\n",
    "for i in range(10):\n",
    "    for j in range(10):\n",
    "        sum1 = 0\n",
    "        for k in range(786):\n",
    "            sum1 = sum1 + temp[j][k] * img_vec[k][i]\n",
    "        omega[j][i] = sum1\n",
    "        "
   ]
  },
  {
   "cell_type": "markdown",
   "metadata": {},
   "source": [
    "# TEST SET #"
   ]
  },
  {
   "cell_type": "code",
   "execution_count": 38,
   "metadata": {
    "collapsed": false
   },
   "outputs": [
    {
     "name": "stdout",
     "output_type": "stream",
     "text": [
      "i: 0\n",
      "i: 1000\n",
      "i: 2000\n",
      "i: 3000\n",
      "i: 4000\n",
      "i: 5000\n",
      "i: 6000\n",
      "i: 7000\n",
      "i: 8000\n",
      "i: 9000\n"
     ]
    }
   ],
   "source": [
    "test_x,test_y = get_labeled_data('t10k-images-idx3-ubyte.gz', 't10k-labels-idx1-ubyte.gz')"
   ]
  },
  {
   "cell_type": "markdown",
   "metadata": {},
   "source": [
    "### Thresholding ###"
   ]
  },
  {
   "cell_type": "code",
   "execution_count": 39,
   "metadata": {
    "collapsed": false
   },
   "outputs": [
    {
     "data": {
      "image/png": "[encoded data removed]",
      "text/plain": [
       "<matplotlib.figure.Figure at 0x7f6decac5080>"
      ]
     },
     "metadata": {},
     "output_type": "display_data"
    }
   ],
   "source": [
    "#Thresholding all the images\n",
    "for i in range(len(test_x)):\n",
    "    img = test_x[i]\n",
    "    blur = cv2.GaussianBlur(img,(5,5),0)\n",
    "    ret3,test_x[i] = cv2.threshold(blur,0,255,cv2.THRESH_BINARY+cv2.THRESH_OTSU)\n",
    "plt.imshow(test_x[1],'gray')\n",
    "plt.show()\n",
    "\n",
    "    \n",
    "# creating the vectors of the images\n",
    "img_vec_test = np.zeros((786,10000),dtype = 'float32')\n",
    "for i in range(10000):\n",
    "    c = 0\n",
    "    for j in range(28):\n",
    "        for k in range(28):\n",
    "            img_vec_test[c][i] = test_x[i][j][k]\n",
    "            c = c + 1"
   ]
  },
  {
   "cell_type": "code",
   "execution_count": 40,
   "metadata": {
    "collapsed": false
   },
   "outputs": [
    {
     "data": {
      "text/plain": [
       "(10, 10)"
      ]
     },
     "execution_count": 40,
     "metadata": {},
     "output_type": "execute_result"
    }
   ],
   "source": [
    "omega.shape"
   ]
  },
  {
   "cell_type": "markdown",
   "metadata": {},
   "source": [
    "### Subtracting from the average Vector ###"
   ]
  },
  {
   "cell_type": "code",
   "execution_count": 41,
   "metadata": {
    "collapsed": true
   },
   "outputs": [],
   "source": [
    "# subtracting each digit from the average vector\n",
    "for i in range(786):\n",
    "    for j in range(10000):\n",
    "        img_vec_test[i][j] = img_vec_test[i][j] - vec[i] "
   ]
  },
  {
   "cell_type": "code",
   "execution_count": 42,
   "metadata": {
    "collapsed": false
   },
   "outputs": [
    {
     "data": {
      "text/plain": [
       "(786, 10000)"
      ]
     },
     "execution_count": 42,
     "metadata": {},
     "output_type": "execute_result"
    }
   ],
   "source": [
    "img_vec_test.shape"
   ]
  },
  {
   "cell_type": "markdown",
   "metadata": {},
   "source": [
    "### Normalizing the images w.r.t Eigen Vectors ###"
   ]
  },
  {
   "cell_type": "code",
   "execution_count": 43,
   "metadata": {
    "collapsed": false
   },
   "outputs": [
    {
     "name": "stdout",
     "output_type": "stream",
     "text": [
      "0\n",
      "1000\n",
      "2000\n",
      "3000\n",
      "4000\n",
      "5000\n",
      "6000\n",
      "7000\n",
      "8000\n",
      "9000\n"
     ]
    }
   ],
   "source": [
    "# normalized images with respect to eigen vectors\n",
    "omega_test = np.zeros((10,10000),dtype = 'float32')\n",
    "bestV_trans = bestV.transpose()\n",
    "for i in range(10000):\n",
    "    for j in range(10):\n",
    "        sum1 = 0\n",
    "        for k in range(786):\n",
    "            sum1 = sum1 + bestV_trans[j][k] * img_vec_test[k][i]\n",
    "        omega_test[j][i] = sum1\n",
    "    if(i % 1000 == 0):\n",
    "        print(i)"
   ]
  },
  {
   "cell_type": "code",
   "execution_count": 44,
   "metadata": {
    "collapsed": false
   },
   "outputs": [
    {
     "data": {
      "text/plain": [
       "(10, 786)"
      ]
     },
     "execution_count": 44,
     "metadata": {},
     "output_type": "execute_result"
    }
   ],
   "source": [
    "bestV_trans.shape"
   ]
  },
  {
   "cell_type": "code",
   "execution_count": 45,
   "metadata": {
    "collapsed": false
   },
   "outputs": [
    {
     "name": "stdout",
     "output_type": "stream",
     "text": [
      "(10, 10)\n",
      "(10, 10000)\n"
     ]
    }
   ],
   "source": [
    "print(omega.shape)\n",
    "print(omega_test.shape)"
   ]
  },
  {
   "cell_type": "markdown",
   "metadata": {},
   "source": [
    "### Code to predict digit displayed in the image ###"
   ]
  },
  {
   "cell_type": "code",
   "execution_count": 46,
   "metadata": {
    "collapsed": false
   },
   "outputs": [],
   "source": [
    "#prediction of images\n",
    "def predict(sample,test):\n",
    "    #pred = np.zeros(10,dtype = 'uint8')\n",
    "    dist = np.zeros(10,dtype = 'float32')\n",
    "    for i in range(10):\n",
    "        sum1 = 0\n",
    "        for j in range(10):\n",
    "            sum1 = sum1 + ((test[j] - sample[j][i]) ** 2)\n",
    "        dist[i] = dist[i] + mt.sqrt(sum1)\n",
    "                \n",
    "    # calculating the minimum distance and returning the index\n",
    "    min1 = dist[0]\n",
    "    val = 0\n",
    "    for i in range(10):\n",
    "        if(min1 > dist[i]):\n",
    "            val = i;\n",
    "            min1 = dist[i]\n",
    "    return val"
   ]
  },
  {
   "cell_type": "markdown",
   "metadata": {},
   "source": [
    "## A few Predictions ##"
   ]
  },
  {
   "cell_type": "code",
   "execution_count": 47,
   "metadata": {
    "collapsed": false
   },
   "outputs": [
    {
     "name": "stdout",
     "output_type": "stream",
     "text": [
      "[7] 7\n",
      "[2] 2\n",
      "[1] 1\n",
      "[0] 0\n",
      "[4] 4\n",
      "[1] 1\n",
      "[4] 9\n",
      "[9] 9\n",
      "[5] 6\n",
      "[9] 9\n",
      "[0] 0\n",
      "[6] 6\n",
      "[9] 9\n",
      "[0] 0\n",
      "[1] 1\n",
      "[5] 3\n",
      "[9] 4\n",
      "[7] 7\n",
      "[3] 5\n",
      "[4] 4\n"
     ]
    }
   ],
   "source": [
    "for i in range(20):\n",
    "    print(test_y[i], predict(omega,omega_test[:,i]))"
   ]
  },
  {
   "cell_type": "markdown",
   "metadata": {},
   "source": [
    "## Calculating the accuracy across all the 10000 test images ##"
   ]
  },
  {
   "cell_type": "code",
   "execution_count": 48,
   "metadata": {
    "collapsed": false
   },
   "outputs": [
    {
     "name": "stdout",
     "output_type": "stream",
     "text": [
      "Accuracy -  78.29 %\n"
     ]
    }
   ],
   "source": [
    "#prediction without using the adaptive thresholding\n",
    "pred = 0\n",
    "for i in range(10000):\n",
    "    if(test_y[i] == predict(omega,omega_test[:,i])):\n",
    "       pred = pred + 1\n",
    "print('Accuracy - ', (pred/10000) * 100, '%')"
   ]
  },
  {
   "cell_type": "code",
   "execution_count": 50,
   "metadata": {
    "collapsed": false
   },
   "outputs": [
    {
     "ename": "ValueError",
     "evalue": "Found input variables with inconsistent numbers of samples: [28, 1]",
     "output_type": "error",
     "traceback": [
      "\u001b[0;31m---------------------------------------------------------------------------\u001b[0m",
      "\u001b[0;31mValueError\u001b[0m                                Traceback (most recent call last)",
      "\u001b[0;32m<ipython-input-50-4bbcfd0baa31>\u001b[0m in \u001b[0;36m<module>\u001b[0;34m()\u001b[0m\n\u001b[1;32m      1\u001b[0m \u001b[0;32mfrom\u001b[0m \u001b[0msklearn\u001b[0m \u001b[0;32mimport\u001b[0m \u001b[0msvm\u001b[0m\u001b[0;34m\u001b[0m\u001b[0m\n\u001b[1;32m      2\u001b[0m \u001b[0mclf\u001b[0m \u001b[0;34m=\u001b[0m \u001b[0msvm\u001b[0m\u001b[0;34m.\u001b[0m\u001b[0mSVC\u001b[0m\u001b[0;34m(\u001b[0m\u001b[0mgamma\u001b[0m \u001b[0;34m=\u001b[0m \u001b[0;36m0.001\u001b[0m\u001b[0;34m,\u001b[0m\u001b[0mC\u001b[0m \u001b[0;34m=\u001b[0m \u001b[0;36m100\u001b[0m\u001b[0;34m)\u001b[0m\u001b[0;34m\u001b[0m\u001b[0m\n\u001b[0;32m----> 3\u001b[0;31m \u001b[0mclf\u001b[0m\u001b[0;34m.\u001b[0m\u001b[0mfit\u001b[0m\u001b[0;34m(\u001b[0m\u001b[0mx\u001b[0m\u001b[0;34m[\u001b[0m\u001b[0;36m0\u001b[0m\u001b[0;34m]\u001b[0m\u001b[0;34m,\u001b[0m \u001b[0my\u001b[0m\u001b[0;34m[\u001b[0m\u001b[0;36m0\u001b[0m\u001b[0;34m]\u001b[0m\u001b[0;34m)\u001b[0m\u001b[0;34m\u001b[0m\u001b[0m\n\u001b[0m\u001b[1;32m      4\u001b[0m \u001b[0mclf\u001b[0m\u001b[0;34m.\u001b[0m\u001b[0mpredict\u001b[0m\u001b[0;34m(\u001b[0m\u001b[0mtest_x\u001b[0m\u001b[0;34m[\u001b[0m\u001b[0;36m0\u001b[0m\u001b[0;34m]\u001b[0m\u001b[0;34m)\u001b[0m\u001b[0;34m\u001b[0m\u001b[0m\n",
      "\u001b[0;32m/home/Faraz/anaconda3/lib/python3.5/site-packages/sklearn/svm/base.py\u001b[0m in \u001b[0;36mfit\u001b[0;34m(self, X, y, sample_weight)\u001b[0m\n\u001b[1;32m    149\u001b[0m         \u001b[0mself\u001b[0m\u001b[0;34m.\u001b[0m\u001b[0m_sparse\u001b[0m \u001b[0;34m=\u001b[0m \u001b[0msparse\u001b[0m \u001b[0;32mand\u001b[0m \u001b[0;32mnot\u001b[0m \u001b[0mcallable\u001b[0m\u001b[0;34m(\u001b[0m\u001b[0mself\u001b[0m\u001b[0;34m.\u001b[0m\u001b[0mkernel\u001b[0m\u001b[0;34m)\u001b[0m\u001b[0;34m\u001b[0m\u001b[0m\n\u001b[1;32m    150\u001b[0m \u001b[0;34m\u001b[0m\u001b[0m\n\u001b[0;32m--> 151\u001b[0;31m         \u001b[0mX\u001b[0m\u001b[0;34m,\u001b[0m \u001b[0my\u001b[0m \u001b[0;34m=\u001b[0m \u001b[0mcheck_X_y\u001b[0m\u001b[0;34m(\u001b[0m\u001b[0mX\u001b[0m\u001b[0;34m,\u001b[0m \u001b[0my\u001b[0m\u001b[0;34m,\u001b[0m \u001b[0mdtype\u001b[0m\u001b[0;34m=\u001b[0m\u001b[0mnp\u001b[0m\u001b[0;34m.\u001b[0m\u001b[0mfloat64\u001b[0m\u001b[0;34m,\u001b[0m \u001b[0morder\u001b[0m\u001b[0;34m=\u001b[0m\u001b[0;34m'C'\u001b[0m\u001b[0;34m,\u001b[0m \u001b[0maccept_sparse\u001b[0m\u001b[0;34m=\u001b[0m\u001b[0;34m'csr'\u001b[0m\u001b[0;34m)\u001b[0m\u001b[0;34m\u001b[0m\u001b[0m\n\u001b[0m\u001b[1;32m    152\u001b[0m         \u001b[0my\u001b[0m \u001b[0;34m=\u001b[0m \u001b[0mself\u001b[0m\u001b[0;34m.\u001b[0m\u001b[0m_validate_targets\u001b[0m\u001b[0;34m(\u001b[0m\u001b[0my\u001b[0m\u001b[0;34m)\u001b[0m\u001b[0;34m\u001b[0m\u001b[0m\n\u001b[1;32m    153\u001b[0m \u001b[0;34m\u001b[0m\u001b[0m\n",
      "\u001b[0;32m/home/Faraz/anaconda3/lib/python3.5/site-packages/sklearn/utils/validation.py\u001b[0m in \u001b[0;36mcheck_X_y\u001b[0;34m(X, y, accept_sparse, dtype, order, copy, force_all_finite, ensure_2d, allow_nd, multi_output, ensure_min_samples, ensure_min_features, y_numeric, warn_on_dtype, estimator)\u001b[0m\n\u001b[1;32m    529\u001b[0m         \u001b[0my\u001b[0m \u001b[0;34m=\u001b[0m \u001b[0my\u001b[0m\u001b[0;34m.\u001b[0m\u001b[0mastype\u001b[0m\u001b[0;34m(\u001b[0m\u001b[0mnp\u001b[0m\u001b[0;34m.\u001b[0m\u001b[0mfloat64\u001b[0m\u001b[0;34m)\u001b[0m\u001b[0;34m\u001b[0m\u001b[0m\n\u001b[1;32m    530\u001b[0m \u001b[0;34m\u001b[0m\u001b[0m\n\u001b[0;32m--> 531\u001b[0;31m     \u001b[0mcheck_consistent_length\u001b[0m\u001b[0;34m(\u001b[0m\u001b[0mX\u001b[0m\u001b[0;34m,\u001b[0m \u001b[0my\u001b[0m\u001b[0;34m)\u001b[0m\u001b[0;34m\u001b[0m\u001b[0m\n\u001b[0m\u001b[1;32m    532\u001b[0m \u001b[0;34m\u001b[0m\u001b[0m\n\u001b[1;32m    533\u001b[0m     \u001b[0;32mreturn\u001b[0m \u001b[0mX\u001b[0m\u001b[0;34m,\u001b[0m \u001b[0my\u001b[0m\u001b[0;34m\u001b[0m\u001b[0m\n",
      "\u001b[0;32m/home/Faraz/anaconda3/lib/python3.5/site-packages/sklearn/utils/validation.py\u001b[0m in \u001b[0;36mcheck_consistent_length\u001b[0;34m(*arrays)\u001b[0m\n\u001b[1;32m    179\u001b[0m     \u001b[0;32mif\u001b[0m \u001b[0mlen\u001b[0m\u001b[0;34m(\u001b[0m\u001b[0muniques\u001b[0m\u001b[0;34m)\u001b[0m \u001b[0;34m>\u001b[0m \u001b[0;36m1\u001b[0m\u001b[0;34m:\u001b[0m\u001b[0;34m\u001b[0m\u001b[0m\n\u001b[1;32m    180\u001b[0m         raise ValueError(\"Found input variables with inconsistent numbers of\"\n\u001b[0;32m--> 181\u001b[0;31m                          \" samples: %r\" % [int(l) for l in lengths])\n\u001b[0m\u001b[1;32m    182\u001b[0m \u001b[0;34m\u001b[0m\u001b[0m\n\u001b[1;32m    183\u001b[0m \u001b[0;34m\u001b[0m\u001b[0m\n",
      "\u001b[0;31mValueError\u001b[0m: Found input variables with inconsistent numbers of samples: [28, 1]"
     ]
    }
   ],
   "source": [
    "from sklearn import svm\n",
    "clf = svm.SVC(gamma = 0.001,C = 100)\n",
    "clf.fit(x[0], y[0])\n",
    "clf.predict(test_x[0])"
   ]
  },
  {
   "cell_type": "code",
   "execution_count": null,
   "metadata": {
    "collapsed": true
   },
   "outputs": [],
   "source": []
  }
 ],
 "metadata": {
  "anaconda-cloud": {},
  "kernelspec": {
   "display_name": "Python [conda root]",
   "language": "python",
   "name": "conda-root-py"
  },
  "language_info": {
   "codemirror_mode": {
    "name": "ipython",
    "version": 3
   },
   "file_extension": ".py",
   "mimetype": "text/x-python",
   "name": "python",
   "nbconvert_exporter": "python",
   "pygments_lexer": "ipython3",
   "version": "3.5.2"
  }
 },
 "nbformat": 4,
 "nbformat_minor": 1
}

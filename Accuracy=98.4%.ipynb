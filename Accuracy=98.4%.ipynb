{
 "cells": [
  {
   "cell_type": "markdown",
   "metadata": {},
   "source": [
    "# IMPORTING "
   ]
  },
  {
   "cell_type": "code",
   "execution_count": 24,
   "metadata": {
    "collapsed": false
   },
   "outputs": [],
   "source": [
    "from sklearn.datasets import fetch_mldata\n",
    "from sklearn.decomposition import PCA\n",
    "import numpy as np\n",
    "from time import time\n",
    "start_time = time()"
   ]
  },
  {
   "cell_type": "code",
   "execution_count": 2,
   "metadata": {
    "collapsed": false
   },
   "outputs": [],
   "source": [
    "from sklearn.datasets.mldata import fetch_mldata\n",
    "mnist = fetch_mldata('mnist-original', data_home='mnist_dataset/')"
   ]
  },
  {
   "cell_type": "code",
   "execution_count": 3,
   "metadata": {
    "collapsed": false
   },
   "outputs": [
    {
     "name": "stdout",
     "output_type": "stream",
     "text": [
      "(70000, 784)\n",
      "(70000,)\n"
     ]
    }
   ],
   "source": [
    "print(mnist.data.shape)\n",
    "print(mnist.target.shape)"
   ]
  },
  {
   "cell_type": "code",
   "execution_count": 4,
   "metadata": {
    "collapsed": false
   },
   "outputs": [],
   "source": [
    "train_x = mnist.data[0:60000,:]\n",
    "train_y = mnist.target[0:60000]\n",
    "test_x = mnist.data[60000:,:]\n",
    "test_y = mnist.target[60000:]"
   ]
  },
  {
   "cell_type": "code",
   "execution_count": 5,
   "metadata": {
    "collapsed": true
   },
   "outputs": [],
   "source": [
    "n = 50"
   ]
  },
  {
   "cell_type": "markdown",
   "metadata": {},
   "source": [
    "# APPLYING PCA TO DATA"
   ]
  },
  {
   "cell_type": "code",
   "execution_count": 6,
   "metadata": {
    "collapsed": false
   },
   "outputs": [
    {
     "data": {
      "text/plain": [
       "PCA(copy=True, iterated_power='auto', n_components=50, random_state=None,\n",
       "  svd_solver='randomized', tol=0.0, whiten=True)"
      ]
     },
     "execution_count": 6,
     "metadata": {},
     "output_type": "execute_result"
    }
   ],
   "source": [
    "pca = PCA(n_components=n, svd_solver='randomized',whiten=True)\n",
    "pca.fit(train_x)"
   ]
  },
  {
   "cell_type": "code",
   "execution_count": 7,
   "metadata": {
    "collapsed": false
   },
   "outputs": [
    {
     "name": "stdout",
     "output_type": "stream",
     "text": [
      "Time Elapsed  16.604098320007324\n"
     ]
    }
   ],
   "source": [
    "#Projecting the input data on the eigens on orthonormal basis\n",
    "train_x_pca = pca.transform(train_x)\n",
    "test_x_pca = pca.transform(test_x)\n",
    "print('Time Elapsed ', (time() - start_time))"
   ]
  },
  {
   "cell_type": "markdown",
   "metadata": {},
   "source": [
    "# MLP CLASSIFIER"
   ]
  },
  {
   "cell_type": "code",
   "execution_count": 8,
   "metadata": {
    "collapsed": true
   },
   "outputs": [],
   "source": [
    "from sklearn.neural_network import MLPClassifier"
   ]
  },
  {
   "cell_type": "code",
   "execution_count": 9,
   "metadata": {
    "collapsed": false
   },
   "outputs": [],
   "source": [
    "mlp = MLPClassifier(hidden_layer_sizes=(100,50,), max_iter=1000,learning_rate = 'adaptive', batch_size='auto',alpha=1e-1,solver='sgd', verbose=10, tol=1e-3, random_state=1,learning_rate_init=0.1)"
   ]
  },
  {
   "cell_type": "code",
   "execution_count": 10,
   "metadata": {
    "collapsed": false
   },
   "outputs": [
    {
     "name": "stdout",
     "output_type": "stream",
     "text": [
      "Iteration 1, loss = 0.36162008\n",
      "Iteration 2, loss = 0.17200082\n",
      "Iteration 3, loss = 0.14935183\n",
      "Iteration 4, loss = 0.13842082\n",
      "Iteration 5, loss = 0.13005617\n",
      "Iteration 6, loss = 0.12507986\n",
      "Iteration 7, loss = 0.12174739\n",
      "Iteration 8, loss = 0.11796686\n",
      "Iteration 9, loss = 0.11510003\n",
      "Iteration 10, loss = 0.11481280\n",
      "Iteration 11, loss = 0.11163155\n",
      "Iteration 12, loss = 0.11188101\n",
      "Iteration 13, loss = 0.10963151\n",
      "Iteration 14, loss = 0.10649875\n",
      "Iteration 15, loss = 0.10725982\n",
      "Iteration 16, loss = 0.10627064\n",
      "Iteration 17, loss = 0.10467652\n",
      "Iteration 18, loss = 0.10432501\n",
      "Iteration 19, loss = 0.10378804\n",
      "Iteration 20, loss = 0.10335435\n",
      "Training loss did not improve more than tol=0.001000 for two consecutive epochs. Setting learning rate to 0.020000\n",
      "Iteration 21, loss = 0.08949824\n",
      "Iteration 22, loss = 0.08362039\n",
      "Iteration 23, loss = 0.08192177\n",
      "Iteration 24, loss = 0.08085732\n",
      "Iteration 25, loss = 0.08024214\n",
      "Iteration 26, loss = 0.07955165\n",
      "Iteration 27, loss = 0.07918279\n",
      "Training loss did not improve more than tol=0.001000 for two consecutive epochs. Setting learning rate to 0.004000\n",
      "Iteration 28, loss = 0.07722291\n",
      "Iteration 29, loss = 0.07685940\n",
      "Iteration 30, loss = 0.07670106\n",
      "Iteration 31, loss = 0.07661492\n",
      "Training loss did not improve more than tol=0.001000 for two consecutive epochs. Setting learning rate to 0.000800\n",
      "Iteration 32, loss = 0.07618595\n",
      "Iteration 33, loss = 0.07615981\n",
      "Iteration 34, loss = 0.07613931\n",
      "Training loss did not improve more than tol=0.001000 for two consecutive epochs. Setting learning rate to 0.000160\n",
      "Iteration 35, loss = 0.07604872\n",
      "Iteration 36, loss = 0.07604557\n",
      "Iteration 37, loss = 0.07604079\n",
      "Training loss did not improve more than tol=0.001000 for two consecutive epochs. Setting learning rate to 0.000032\n",
      "Iteration 38, loss = 0.07602278\n",
      "Iteration 39, loss = 0.07602183\n",
      "Iteration 40, loss = 0.07602117\n",
      "Training loss did not improve more than tol=0.001000 for two consecutive epochs. Setting learning rate to 0.000006\n",
      "Iteration 41, loss = 0.07601743\n",
      "Iteration 42, loss = 0.07601728\n",
      "Iteration 43, loss = 0.07601715\n",
      "Training loss did not improve more than tol=0.001000 for two consecutive epochs. Setting learning rate to 0.000001\n",
      "Iteration 44, loss = 0.07601638\n",
      "Iteration 45, loss = 0.07601636\n",
      "Iteration 46, loss = 0.07601633\n",
      "Training loss did not improve more than tol=0.001000 for two consecutive epochs. Setting learning rate to 0.000000\n",
      "Iteration 47, loss = 0.07601618\n",
      "Iteration 48, loss = 0.07601617\n",
      "Iteration 49, loss = 0.07601616\n",
      "Training loss did not improve more than tol=0.001000 for two consecutive epochs. Learning rate too small. Stopping.\n"
     ]
    },
    {
     "data": {
      "text/plain": [
       "MLPClassifier(activation='relu', alpha=0.1, batch_size='auto', beta_1=0.9,\n",
       "       beta_2=0.999, early_stopping=False, epsilon=1e-08,\n",
       "       hidden_layer_sizes=(100, 50), learning_rate='adaptive',\n",
       "       learning_rate_init=0.1, max_iter=1000, momentum=0.9,\n",
       "       nesterovs_momentum=True, power_t=0.5, random_state=1, shuffle=True,\n",
       "       solver='sgd', tol=0.001, validation_fraction=0.1, verbose=10,\n",
       "       warm_start=False)"
      ]
     },
     "execution_count": 10,
     "metadata": {},
     "output_type": "execute_result"
    }
   ],
   "source": [
    "mlp.fit(train_x_pca,train_y)"
   ]
  },
  {
   "cell_type": "code",
   "execution_count": 11,
   "metadata": {
    "collapsed": false
   },
   "outputs": [
    {
     "name": "stdout",
     "output_type": "stream",
     "text": [
      "Accuracy  9831\n"
     ]
    }
   ],
   "source": [
    "y_pred = mlp.predict(test_x_pca)\n",
    "pred = 0\n",
    "for i in range(10000):\n",
    "    if y_pred[i] == test_y[i]:\n",
    "        pred += 1\n",
    "print('Accuracy ',pred)"
   ]
  },
  {
   "cell_type": "code",
   "execution_count": 12,
   "metadata": {
    "collapsed": false
   },
   "outputs": [
    {
     "name": "stdout",
     "output_type": "stream",
     "text": [
      "The final accuracy is  98.31 %\n",
      "Time Elapsed  193.48150420188904\n"
     ]
    }
   ],
   "source": [
    "acc = (pred/10000) * 100\n",
    "acc = round(acc, 2)\n",
    "print('The final accuracy is ', acc,'%')\n",
    "print('Time Elapsed ', (time() - start_time))"
   ]
  }
 ],
 "metadata": {
  "anaconda-cloud": {},
  "kernelspec": {
   "display_name": "Python [conda root]",
   "language": "python",
   "name": "conda-root-py"
  },
  "language_info": {
   "codemirror_mode": {
    "name": "ipython",
    "version": 3
   },
   "file_extension": ".py",
   "mimetype": "text/x-python",
   "name": "python",
   "nbconvert_exporter": "python",
   "pygments_lexer": "ipython3",
   "version": "3.5.3"
  }
 },
 "nbformat": 4,
 "nbformat_minor": 1
}
